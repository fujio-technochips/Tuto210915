{
 "cells": [
  {
   "cell_type": "code",
   "execution_count": 1,
   "id": "heavy-enterprise",
   "metadata": {},
   "outputs": [
    {
     "data": {
      "application/javascript": [
       "IPython.notebook.set_autosave_interval(0)"
      ]
     },
     "metadata": {},
     "output_type": "display_data"
    },
    {
     "name": "stdout",
     "output_type": "stream",
     "text": [
      "Autosave disabled\n"
     ]
    }
   ],
   "source": [
    "%autosave 0"
   ]
  },
  {
   "cell_type": "markdown",
   "id": "detailed-checklist",
   "metadata": {},
   "source": [
    "### ファイルダイアログを開いて回路図を選択　alt+tabでダイアログ選択"
   ]
  },
  {
   "cell_type": "code",
   "execution_count": 1,
   "id": "outside-annex",
   "metadata": {},
   "outputs": [
    {
     "name": "stdout",
     "output_type": "stream",
     "text": [
      "Overwriting function_1.py\n"
     ]
    }
   ],
   "source": [
    "%%writefile function_1.py\n",
    "#上記の%%writefile sub1.pyｈ\n",
    "print(\"function_1.pyをロードしました\")\n",
    "import tkinter\n",
    "import tkinter.filedialog\n",
    "import tkinter.messagebox\n",
    "def get_filename():\n",
    "    root=tkinter.Tk()    # 一番外に必要\n",
    "    root.withdraw()    # 一番外に必要\n",
    "    fTyp=[('pynote','*.ipynb'),('python','*.py'),('全て','*.*')]\n",
    "    f =  tkinter.filedialog.askopenfilename(filetypes=fTyp)\n",
    "    #print(f)\n",
    "    return f"
   ]
  },
  {
   "cell_type": "code",
   "execution_count": 2,
   "id": "future-canyon",
   "metadata": {},
   "outputs": [
    {
     "name": "stdout",
     "output_type": "stream",
     "text": [
      "function_1.pyをロードしました\n",
      "D:/Documents/Python/python3.9/GitTuto/module_2/function_2.ipynb\n"
     ]
    }
   ],
   "source": [
    "from function_1 import *    # ファイルに.py保存したものをインポート\n",
    "if __name__ == '__main__': \n",
    "    print(get_filename())"
   ]
  }
 ],
 "metadata": {
  "kernelspec": {
   "display_name": "Python 3",
   "language": "python",
   "name": "python3"
  },
  "language_info": {
   "codemirror_mode": {
    "name": "ipython",
    "version": 3
   },
   "file_extension": ".py",
   "mimetype": "text/x-python",
   "name": "python",
   "nbconvert_exporter": "python",
   "pygments_lexer": "ipython3",
   "version": "3.9.2"
  }
 },
 "nbformat": 4,
 "nbformat_minor": 5
}
