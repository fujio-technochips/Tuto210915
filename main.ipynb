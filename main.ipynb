{
 "cells": [
  {
   "cell_type": "code",
   "execution_count": 1,
   "id": "christian-resident",
   "metadata": {},
   "outputs": [
    {
     "data": {
      "application/javascript": [
       "IPython.notebook.set_autosave_interval(0)"
      ]
     },
     "metadata": {},
     "output_type": "display_data"
    },
    {
     "name": "stdout",
     "output_type": "stream",
     "text": [
      "Autosave disabled\n"
     ]
    }
   ],
   "source": [
    "%autosave 0"
   ]
  },
  {
   "cell_type": "markdown",
   "id": "descending-african",
   "metadata": {},
   "source": [
    "### 一番最初のプログラム"
   ]
  },
  {
   "cell_type": "code",
   "execution_count": 2,
   "id": "lined-missouri",
   "metadata": {},
   "outputs": [
    {
     "name": "stdout",
     "output_type": "stream",
     "text": [
      "function_1.pyをロードしました\n",
      "function_2.pyをロードしましたよ～\n"
     ]
    }
   ],
   "source": [
    "from module_1.function_1 import *\n",
    "from module_2.function_2 import *"
   ]
  },
  {
   "cell_type": "code",
   "execution_count": 3,
   "id": "fatty-marker",
   "metadata": {},
   "outputs": [],
   "source": [
    "fname = get_filename()"
   ]
  },
  {
   "cell_type": "code",
   "execution_count": 4,
   "id": "resident-associate",
   "metadata": {},
   "outputs": [
    {
     "name": "stdout",
     "output_type": "stream",
     "text": [
      "付け替え D:/Documents/Python/python3.9/210818_GitTuto/module_1/function_1.ipynb -> .txt\n"
     ]
    }
   ],
   "source": [
    "ofname = ExchangeExtension(fname,'.txt')"
   ]
  },
  {
   "cell_type": "code",
   "execution_count": 5,
   "id": "behind-sociology",
   "metadata": {},
   "outputs": [
    {
     "name": "stdout",
     "output_type": "stream",
     "text": [
      "ファイル拡張子変更　-＞　 function_1.ipynb の拡張子を function_1.txt に追加\n"
     ]
    }
   ],
   "source": [
    "print(f\"ファイル拡張子変更　-＞　 {os.path.basename(fname)} の拡張子を {os.path.basename(ofname)} に追加\")"
   ]
  },
  {
   "cell_type": "code",
   "execution_count": 6,
   "id": "continuing-gentleman",
   "metadata": {},
   "outputs": [
    {
     "name": "stdout",
     "output_type": "stream",
     "text": [
      "A社向け改変を行いました。　21/09/01\n"
     ]
    }
   ],
   "source": [
    "print(\"A社向け改変を行いました。　21/09/01\")"
   ]
  },
  {
   "cell_type": "code",
   "execution_count": null,
   "id": "gothic-neighborhood",
   "metadata": {},
   "outputs": [],
   "source": []
  }
 ],
 "metadata": {
  "kernelspec": {
   "display_name": "Python 3",
   "language": "python",
   "name": "python3"
  },
  "language_info": {
   "codemirror_mode": {
    "name": "ipython",
    "version": 3
   },
   "file_extension": ".py",
   "mimetype": "text/x-python",
   "name": "python",
   "nbconvert_exporter": "python",
   "pygments_lexer": "ipython3",
   "version": "3.9.2"
  }
 },
 "nbformat": 4,
 "nbformat_minor": 5
}
