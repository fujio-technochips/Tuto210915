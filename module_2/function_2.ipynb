{
 "cells": [
  {
   "cell_type": "code",
   "execution_count": 2,
   "id": "dietary-extraction",
   "metadata": {},
   "outputs": [
    {
     "data": {
      "application/javascript": [
       "IPython.notebook.set_autosave_interval(0)"
      ]
     },
     "metadata": {},
     "output_type": "display_data"
    },
    {
     "name": "stdout",
     "output_type": "stream",
     "text": [
      "Autosave disabled\n"
     ]
    }
   ],
   "source": [
    "%autosave 0"
   ]
  },
  {
   "cell_type": "markdown",
   "id": "shared-quick",
   "metadata": {},
   "source": [
    "### ファイルの拡張子を変更する関数"
   ]
  },
  {
   "cell_type": "code",
   "execution_count": 3,
   "id": "double-dancing",
   "metadata": {},
   "outputs": [
    {
     "name": "stdout",
     "output_type": "stream",
     "text": [
      "Overwriting function_2.py\n"
     ]
    }
   ],
   "source": [
    "%%writefile function_2.py\n",
    "#上記の%%writefile sub1.pyｈ\n",
    "print(\"function_2.pyをロードしましたよ～\")\n",
    "import os\n",
    "def ExchangeExtension(fname,newext):\n",
    "    print(f\"付け替え {fname} -> {newext}\")\n",
    "    path, ext = os.path.splitext(fname)\n",
    "    path += newext;\n",
    "    return path"
   ]
  },
  {
   "cell_type": "code",
   "execution_count": 4,
   "id": "polish-deadline",
   "metadata": {},
   "outputs": [
    {
     "name": "stdout",
     "output_type": "stream",
     "text": [
      "function_2.pyをロードしましたよ～\n",
      "付け替え D:\\Documents\\Python\\python3.9\\GitTuto\\module_1\\function.py -> .txt\n",
      "D:\\Documents\\Python\\python3.9\\GitTuto\\module_1\\function.txt\n"
     ]
    }
   ],
   "source": [
    "from function_2 import *    # ファイルに.py保存したものをインポート\n",
    "if __name__ == '__main__': \n",
    "    print(ExchangeExtension(r'D:\\Documents\\Python\\python3.9\\GitTuto\\module_1\\function.py','.txt'))"
   ]
  },
  {
   "cell_type": "code",
   "execution_count": null,
   "id": "potential-trick",
   "metadata": {},
   "outputs": [],
   "source": []
  }
 ],
 "metadata": {
  "kernelspec": {
   "display_name": "Python 3",
   "language": "python",
   "name": "python3"
  },
  "language_info": {
   "codemirror_mode": {
    "name": "ipython",
    "version": 3
   },
   "file_extension": ".py",
   "mimetype": "text/x-python",
   "name": "python",
   "nbconvert_exporter": "python",
   "pygments_lexer": "ipython3",
   "version": "3.9.2"
  }
 },
 "nbformat": 4,
 "nbformat_minor": 5
}
